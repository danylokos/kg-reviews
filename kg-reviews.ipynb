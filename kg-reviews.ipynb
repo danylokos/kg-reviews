{
 "cells": [
  {
   "cell_type": "markdown",
   "metadata": {},
   "source": [
    "# Bag of Words Meets Bags of Popcorn"
   ]
  },
  {
   "cell_type": "code",
   "execution_count": 1,
   "metadata": {},
   "outputs": [],
   "source": [
    "import numpy as np\n",
    "import pandas as pd\n",
    "\n",
    "from emo_utils import *\n",
    "from utils import *\n",
    "\n",
    "from sklearn.model_selection import train_test_split\n",
    "from sklearn.utils import shuffle\n",
    "\n",
    "import nltk\n",
    "from nltk.tokenize import TweetTokenizer"
   ]
  },
  {
   "cell_type": "markdown",
   "metadata": {},
   "source": [
    "### Glove"
   ]
  },
  {
   "cell_type": "code",
   "execution_count": 2,
   "metadata": {},
   "outputs": [
    {
     "name": "stdout",
     "output_type": "stream",
     "text": [
      "word vectors dimensions: 50\n"
     ]
    }
   ],
   "source": [
    "glove_filename = 'glove/glove.6B/glove.6B.50d.txt'\n",
    "# glove_filename = 'glove/glove.6B/glove.6B.300d.txt'\n",
    "# glove_filename = 'glove/glove.twitter.27B/glove.twitter.27B.50d.txt'\n",
    "# glove_filename = 'glove/glove.twitter.27B/glove.twitter.27B.200d.txt'\n",
    "word_to_index, index_to_word, word_to_vec_map = read_glove_vecs(glove_filename)\n",
    "\n",
    "word_vec_dims = word_to_vec_map['apple'].shape[0]\n",
    "print('word vectors dimensions: ' + str(word_vec_dims))"
   ]
  },
  {
   "cell_type": "code",
   "execution_count": 3,
   "metadata": {},
   "outputs": [
    {
     "data": {
      "text/plain": [
       "array([ 0.68224 , -0.31608 , -0.95201 ,  0.47108 ,  0.56571 ,  0.13151 ,\n",
       "        0.22457 ,  0.094995, -1.3237  , -0.51545 , -0.39337 ,  0.88488 ,\n",
       "        0.93826 ,  0.22931 ,  0.088624, -0.53908 ,  0.23396 ,  0.73245 ,\n",
       "       -0.019123, -0.26552 , -0.40433 , -1.5832  ,  1.1316  ,  0.4419  ,\n",
       "       -0.48218 ,  0.4828  ,  0.14938 ,  1.1245  ,  1.0159  , -0.50213 ,\n",
       "        0.83831 , -0.31303 ,  0.083242,  1.7161  ,  0.15024 ,  1.0324  ,\n",
       "       -1.5005  ,  0.62348 ,  0.54508 , -0.88484 ,  0.53279 , -0.085119,\n",
       "        0.02141 , -0.56629 ,  1.1463  ,  0.6464  ,  0.78318 , -0.067662,\n",
       "        0.22884 , -0.042453])"
      ]
     },
     "execution_count": 3,
     "metadata": {},
     "output_type": "execute_result"
    }
   ],
   "source": [
    "word = \"cucumber\"\n",
    "index = 289846\n",
    "\n",
    "word_to_index[word]\n",
    "index_to_word[index]\n",
    "word_to_vec_map[word]"
   ]
  },
  {
   "cell_type": "markdown",
   "metadata": {},
   "source": [
    "### Utils"
   ]
  },
  {
   "cell_type": "code",
   "execution_count": 4,
   "metadata": {},
   "outputs": [],
   "source": [
    "# tokenizer = TweetTokenizer(strip_handles=True, reduce_len=True)\n",
    "\n",
    "def split_sentence(sentence):\n",
    "#     preproc = pt.tokenize(sentence)\n",
    "#     return tokenizer.tokenize(preproc)\n",
    "    return nltk.word_tokenize(sentence)\n",
    "\n",
    "def sentence_len(sentence):\n",
    "#     preproc = pt.tokenize(sentence)\n",
    "    return len(split_sentence(sentence))"
   ]
  },
  {
   "cell_type": "markdown",
   "metadata": {},
   "source": [
    "### Data"
   ]
  },
  {
   "cell_type": "code",
   "execution_count": 5,
   "metadata": {},
   "outputs": [
    {
     "data": {
      "text/plain": [
       "(25000, 3)"
      ]
     },
     "execution_count": 5,
     "metadata": {},
     "output_type": "execute_result"
    }
   ],
   "source": [
    "data = pd.read_csv('kg-data/labeledTrainData.tsv', sep='\\t')\n",
    "# data = shuffle(data)\n",
    "# data = data[:1000]\n",
    "data.shape"
   ]
  },
  {
   "cell_type": "code",
   "execution_count": 9,
   "metadata": {},
   "outputs": [
    {
     "data": {
      "text/html": [
       "<div>\n",
       "<style scoped>\n",
       "    .dataframe tbody tr th:only-of-type {\n",
       "        vertical-align: middle;\n",
       "    }\n",
       "\n",
       "    .dataframe tbody tr th {\n",
       "        vertical-align: top;\n",
       "    }\n",
       "\n",
       "    .dataframe thead th {\n",
       "        text-align: right;\n",
       "    }\n",
       "</style>\n",
       "<table border=\"1\" class=\"dataframe\">\n",
       "  <thead>\n",
       "    <tr style=\"text-align: right;\">\n",
       "      <th></th>\n",
       "      <th>id</th>\n",
       "      <th>sentiment</th>\n",
       "      <th>review</th>\n",
       "    </tr>\n",
       "  </thead>\n",
       "  <tbody>\n",
       "    <tr>\n",
       "      <th>0</th>\n",
       "      <td>5814_8</td>\n",
       "      <td>1</td>\n",
       "      <td>With all this stuff going down at the moment w...</td>\n",
       "    </tr>\n",
       "    <tr>\n",
       "      <th>1</th>\n",
       "      <td>2381_9</td>\n",
       "      <td>1</td>\n",
       "      <td>\\The Classic War of the Worlds\\\" by Timothy Hi...</td>\n",
       "    </tr>\n",
       "    <tr>\n",
       "      <th>2</th>\n",
       "      <td>7759_3</td>\n",
       "      <td>0</td>\n",
       "      <td>The film starts with a manager (Nicholas Bell)...</td>\n",
       "    </tr>\n",
       "    <tr>\n",
       "      <th>3</th>\n",
       "      <td>3630_4</td>\n",
       "      <td>0</td>\n",
       "      <td>It must be assumed that those who praised this...</td>\n",
       "    </tr>\n",
       "    <tr>\n",
       "      <th>4</th>\n",
       "      <td>9495_8</td>\n",
       "      <td>1</td>\n",
       "      <td>Superbly trashy and wondrously unpretentious 8...</td>\n",
       "    </tr>\n",
       "  </tbody>\n",
       "</table>\n",
       "</div>"
      ],
      "text/plain": [
       "       id  sentiment                                             review\n",
       "0  5814_8          1  With all this stuff going down at the moment w...\n",
       "1  2381_9          1  \\The Classic War of the Worlds\\\" by Timothy Hi...\n",
       "2  7759_3          0  The film starts with a manager (Nicholas Bell)...\n",
       "3  3630_4          0  It must be assumed that those who praised this...\n",
       "4  9495_8          1  Superbly trashy and wondrously unpretentious 8..."
      ]
     },
     "execution_count": 9,
     "metadata": {},
     "output_type": "execute_result"
    }
   ],
   "source": [
    "data.head()"
   ]
  },
  {
   "cell_type": "code",
   "execution_count": 10,
   "metadata": {},
   "outputs": [
    {
     "data": {
      "text/plain": [
       "id                                                       397_9\n",
       "sentiment                                                    1\n",
       "review       I have to admit that Tsui Hark is one of a kin...\n",
       "Name: 24319, dtype: object"
      ]
     },
     "execution_count": 10,
     "metadata": {},
     "output_type": "execute_result"
    }
   ],
   "source": [
    "idx = np.random.randint(len(data))\n",
    "data.iloc[idx]"
   ]
  },
  {
   "cell_type": "code",
   "execution_count": 11,
   "metadata": {},
   "outputs": [],
   "source": [
    "X = data['review'].values\n",
    "Y = data['sentiment'].values"
   ]
  },
  {
   "cell_type": "code",
   "execution_count": 12,
   "metadata": {},
   "outputs": [],
   "source": [
    "X_train, X_test, Y_train, Y_test = train_test_split(X, Y, test_size=0.1, shuffle=False)"
   ]
  },
  {
   "cell_type": "code",
   "execution_count": 13,
   "metadata": {},
   "outputs": [
    {
     "name": "stdout",
     "output_type": "stream",
     "text": [
      "max len: 100\n"
     ]
    }
   ],
   "source": [
    "max_len = 100\n",
    "# max_len = int(np.ceil(np.mean(np.vectorize(lambda x: len(split_sentence(x)))(X_train))))\n",
    "# max_len = len(split_sentence(max(X_train, key=sentence_len)))\n",
    "\n",
    "print(\"max len: \" + str(max_len))"
   ]
  },
  {
   "cell_type": "markdown",
   "metadata": {},
   "source": [
    "### Model"
   ]
  },
  {
   "cell_type": "code",
   "execution_count": 29,
   "metadata": {},
   "outputs": [],
   "source": [
    "from keras.models import Model\n",
    "from keras.layers import Dense, Input, Dropout, LSTM, Activation\n",
    "from keras.layers.embeddings import Embedding\n",
    "from keras.callbacks import EarlyStopping, ModelCheckpoint\n",
    "from keras.models import load_model"
   ]
  },
  {
   "cell_type": "code",
   "execution_count": 15,
   "metadata": {},
   "outputs": [],
   "source": [
    "def sentences_to_indices(X, word_to_index, max_len):\n",
    "    m = X.shape[0]\n",
    "    X_indices = np.zeros((m, max_len))\n",
    "    for i in range(m):\n",
    "        j = 0\n",
    "        sentence_words = split_sentence(X[i].lower())\n",
    "        for w in sentence_words:\n",
    "            if j >= max_len:\n",
    "                break\n",
    "            if w in word_to_index:\n",
    "                X_indices[i, j] = word_to_index[w]\n",
    "            j = j + 1\n",
    "    return X_indices"
   ]
  },
  {
   "cell_type": "code",
   "execution_count": 16,
   "metadata": {},
   "outputs": [],
   "source": [
    "def pretrained_embedding_layer(word_to_vec_map, word_to_index):\n",
    "    vocab_len = len(word_to_index) + 1                  # adding 1 to fit Keras embedding (requirement)\n",
    "    emb_dim = word_vec_dims      # define dimensionality of your GloVe word vectors (= 50)\n",
    "    emb_matrix = np.zeros((vocab_len, emb_dim))\n",
    "    for word, index in word_to_index.items():\n",
    "        try:\n",
    "            emb_matrix[index, :] = word_to_vec_map[word]\n",
    "        except:\n",
    "            print(\"bad vector at \" + str(index) + \": \" + word)\n",
    "            emb_matrix[index, :] = np.zeros((word_vec_dims, ))\n",
    "            continue\n",
    "\n",
    "    embedding_layer = Embedding(vocab_len, emb_dim, trainable=False)\n",
    "    embedding_layer.build((None,))\n",
    "    embedding_layer.set_weights([emb_matrix])\n",
    "    return embedding_layer"
   ]
  },
  {
   "cell_type": "code",
   "execution_count": 17,
   "metadata": {},
   "outputs": [],
   "source": [
    "def MyModel_v1(input_shape, word_to_vec_map, word_to_index):\n",
    "    sentence_indices = Input(shape = input_shape, dtype = 'int32')\n",
    "    embedding_layer = pretrained_embedding_layer(word_to_vec_map, word_to_index)\n",
    "    embeddings = embedding_layer(sentence_indices) \n",
    "    X = LSTM(128, return_sequences = True)(embeddings)\n",
    "    X = Dropout(0.5)(X)\n",
    "    X = LSTM(128)(X)\n",
    "    X = Dropout(0.5)(X)\n",
    "#     X = LSTM(128)(X)\n",
    "#     X = Dropout(0.5)(X)\n",
    "#     X = Dense(128, activation='relu')(X)    \n",
    "    X = Dense(1, activation='sigmoid', kernel_initializer='random_normal')(X)\n",
    "    model = Model(inputs=sentence_indices, outputs=X)\n",
    "    return model"
   ]
  },
  {
   "cell_type": "markdown",
   "metadata": {},
   "source": [
    "### Compile & fit"
   ]
  },
  {
   "cell_type": "code",
   "execution_count": null,
   "metadata": {},
   "outputs": [],
   "source": [
    "del model"
   ]
  },
  {
   "cell_type": "code",
   "execution_count": 18,
   "metadata": {},
   "outputs": [
    {
     "name": "stdout",
     "output_type": "stream",
     "text": [
      "WARNING:tensorflow:From /Users/dkostyshyn/workspace/jpnb/.venv/lib/python3.7/site-packages/tensorflow/python/framework/op_def_library.py:263: colocate_with (from tensorflow.python.framework.ops) is deprecated and will be removed in a future version.\n",
      "Instructions for updating:\n",
      "Colocations handled automatically by placer.\n",
      "WARNING:tensorflow:From /Users/dkostyshyn/workspace/jpnb/.venv/lib/python3.7/site-packages/keras/backend/tensorflow_backend.py:3445: calling dropout (from tensorflow.python.ops.nn_ops) with keep_prob is deprecated and will be removed in a future version.\n",
      "Instructions for updating:\n",
      "Please use `rate` instead of `keep_prob`. Rate should be set to `rate = 1 - keep_prob`.\n",
      "_________________________________________________________________\n",
      "Layer (type)                 Output Shape              Param #   \n",
      "=================================================================\n",
      "input_1 (InputLayer)         (None, 100)               0         \n",
      "_________________________________________________________________\n",
      "embedding_1 (Embedding)      (None, 100, 50)           20000050  \n",
      "_________________________________________________________________\n",
      "lstm_1 (LSTM)                (None, 100, 128)          91648     \n",
      "_________________________________________________________________\n",
      "dropout_1 (Dropout)          (None, 100, 128)          0         \n",
      "_________________________________________________________________\n",
      "lstm_2 (LSTM)                (None, 128)               131584    \n",
      "_________________________________________________________________\n",
      "dropout_2 (Dropout)          (None, 128)               0         \n",
      "_________________________________________________________________\n",
      "dense_1 (Dense)              (None, 1)                 129       \n",
      "=================================================================\n",
      "Total params: 20,223,411\n",
      "Trainable params: 223,361\n",
      "Non-trainable params: 20,000,050\n",
      "_________________________________________________________________\n"
     ]
    }
   ],
   "source": [
    "model = MyModel_v1((max_len,), word_to_vec_map, word_to_index)\n",
    "model.summary()"
   ]
  },
  {
   "cell_type": "code",
   "execution_count": 19,
   "metadata": {},
   "outputs": [],
   "source": [
    "model.compile(loss='binary_crossentropy', optimizer='adam', metrics=['accuracy'])"
   ]
  },
  {
   "cell_type": "code",
   "execution_count": 20,
   "metadata": {},
   "outputs": [],
   "source": [
    "es = EarlyStopping(monitor='val_acc', min_delta=0.01, patience=10, verbose=1)\n",
    "mc = ModelCheckpoint('model.h5', monitor='val_acc', verbose=1, save_best_only=True)"
   ]
  },
  {
   "cell_type": "code",
   "execution_count": 21,
   "metadata": {},
   "outputs": [
    {
     "name": "stdout",
     "output_type": "stream",
     "text": [
      "WARNING:tensorflow:From /Users/dkostyshyn/workspace/jpnb/.venv/lib/python3.7/site-packages/tensorflow/python/ops/math_ops.py:3066: to_int32 (from tensorflow.python.ops.math_ops) is deprecated and will be removed in a future version.\n",
      "Instructions for updating:\n",
      "Use tf.cast instead.\n",
      "Train on 20250 samples, validate on 2250 samples\n",
      "Epoch 1/100\n",
      "20250/20250 [==============================] - 71s 4ms/step - loss: 0.6305 - acc: 0.6523 - val_loss: 0.6109 - val_acc: 0.6680\n",
      "\n",
      "Epoch 00001: val_acc improved from -inf to 0.66800, saving model to model.h5\n",
      "Epoch 2/100\n",
      "20250/20250 [==============================] - 68s 3ms/step - loss: 0.5655 - acc: 0.7183 - val_loss: 0.5435 - val_acc: 0.7284\n",
      "\n",
      "Epoch 00002: val_acc improved from 0.66800 to 0.72844, saving model to model.h5\n",
      "Epoch 3/100\n",
      "20250/20250 [==============================] - 67s 3ms/step - loss: 0.5192 - acc: 0.7514 - val_loss: 0.5252 - val_acc: 0.7284\n",
      "\n",
      "Epoch 00003: val_acc did not improve from 0.72844\n",
      "Epoch 4/100\n",
      "20250/20250 [==============================] - 68s 3ms/step - loss: 0.5440 - acc: 0.7289 - val_loss: 0.5001 - val_acc: 0.7547\n",
      "\n",
      "Epoch 00004: val_acc improved from 0.72844 to 0.75467, saving model to model.h5\n",
      "Epoch 5/100\n",
      "20250/20250 [==============================] - 69s 3ms/step - loss: 0.4887 - acc: 0.7689 - val_loss: 0.5014 - val_acc: 0.7453\n",
      "\n",
      "Epoch 00005: val_acc did not improve from 0.75467\n",
      "Epoch 6/100\n",
      "20250/20250 [==============================] - 73s 4ms/step - loss: 0.4748 - acc: 0.7736 - val_loss: 0.4822 - val_acc: 0.7489\n",
      "\n",
      "Epoch 00006: val_acc did not improve from 0.75467\n",
      "Epoch 7/100\n",
      "20250/20250 [==============================] - 78s 4ms/step - loss: 0.4550 - acc: 0.7861 - val_loss: 0.5196 - val_acc: 0.7453\n",
      "\n",
      "Epoch 00007: val_acc did not improve from 0.75467\n",
      "Epoch 8/100\n",
      "20250/20250 [==============================] - 70s 3ms/step - loss: 0.4466 - acc: 0.7881 - val_loss: 0.4662 - val_acc: 0.7782\n",
      "\n",
      "Epoch 00008: val_acc improved from 0.75467 to 0.77822, saving model to model.h5\n",
      "Epoch 9/100\n",
      "20250/20250 [==============================] - 72s 4ms/step - loss: 0.4329 - acc: 0.7960 - val_loss: 0.4669 - val_acc: 0.7778\n",
      "\n",
      "Epoch 00009: val_acc did not improve from 0.77822\n",
      "Epoch 10/100\n",
      "20250/20250 [==============================] - 103s 5ms/step - loss: 0.4212 - acc: 0.8048 - val_loss: 0.4636 - val_acc: 0.7778\n",
      "\n",
      "Epoch 00010: val_acc did not improve from 0.77822\n",
      "Epoch 11/100\n",
      "20250/20250 [==============================] - 101s 5ms/step - loss: 0.4104 - acc: 0.8083 - val_loss: 0.4588 - val_acc: 0.7813\n",
      "\n",
      "Epoch 00011: val_acc improved from 0.77822 to 0.78133, saving model to model.h5\n",
      "Epoch 12/100\n",
      "20250/20250 [==============================] - 101s 5ms/step - loss: 0.3983 - acc: 0.8164 - val_loss: 0.4536 - val_acc: 0.7871\n",
      "\n",
      "Epoch 00012: val_acc improved from 0.78133 to 0.78711, saving model to model.h5\n",
      "Epoch 13/100\n",
      "20250/20250 [==============================] - 107s 5ms/step - loss: 0.3835 - acc: 0.8241 - val_loss: 0.4755 - val_acc: 0.7769\n",
      "\n",
      "Epoch 00013: val_acc did not improve from 0.78711\n",
      "Epoch 14/100\n",
      "20250/20250 [==============================] - 104s 5ms/step - loss: 0.3706 - acc: 0.8295 - val_loss: 0.4525 - val_acc: 0.7840\n",
      "\n",
      "Epoch 00014: val_acc did not improve from 0.78711\n",
      "Epoch 15/100\n",
      "20250/20250 [==============================] - 107s 5ms/step - loss: 0.3525 - acc: 0.8403 - val_loss: 0.4644 - val_acc: 0.7858\n",
      "\n",
      "Epoch 00015: val_acc did not improve from 0.78711\n",
      "Epoch 16/100\n",
      "20250/20250 [==============================] - 107s 5ms/step - loss: 0.3428 - acc: 0.8458 - val_loss: 0.5199 - val_acc: 0.7876\n",
      "\n",
      "Epoch 00016: val_acc improved from 0.78711 to 0.78756, saving model to model.h5\n",
      "Epoch 17/100\n",
      "20250/20250 [==============================] - 107s 5ms/step - loss: 0.3256 - acc: 0.8545 - val_loss: 0.4686 - val_acc: 0.7956\n",
      "\n",
      "Epoch 00017: val_acc improved from 0.78756 to 0.79556, saving model to model.h5\n",
      "Epoch 18/100\n",
      "20250/20250 [==============================] - 109s 5ms/step - loss: 0.3083 - acc: 0.8641 - val_loss: 0.4966 - val_acc: 0.7813\n",
      "\n",
      "Epoch 00018: val_acc did not improve from 0.79556\n",
      "Epoch 19/100\n",
      "20250/20250 [==============================] - 107s 5ms/step - loss: 0.2968 - acc: 0.8698 - val_loss: 0.4861 - val_acc: 0.7760\n",
      "\n",
      "Epoch 00019: val_acc did not improve from 0.79556\n",
      "Epoch 20/100\n",
      "20250/20250 [==============================] - 104s 5ms/step - loss: 0.2773 - acc: 0.8798 - val_loss: 0.5814 - val_acc: 0.7724\n",
      "\n",
      "Epoch 00020: val_acc did not improve from 0.79556\n",
      "Epoch 21/100\n",
      "20250/20250 [==============================] - 102s 5ms/step - loss: 0.2557 - acc: 0.8887 - val_loss: 0.5876 - val_acc: 0.7818\n",
      "\n",
      "Epoch 00021: val_acc did not improve from 0.79556\n",
      "Epoch 22/100\n",
      "20250/20250 [==============================] - 107s 5ms/step - loss: 0.2329 - acc: 0.9030 - val_loss: 0.6624 - val_acc: 0.7800\n",
      "\n",
      "Epoch 00022: val_acc did not improve from 0.79556\n",
      "Epoch 23/100\n",
      "20250/20250 [==============================] - 108s 5ms/step - loss: 0.2149 - acc: 0.9112 - val_loss: 0.6764 - val_acc: 0.7853\n",
      "\n",
      "Epoch 00023: val_acc did not improve from 0.79556\n",
      "Epoch 24/100\n",
      "20250/20250 [==============================] - 107s 5ms/step - loss: 0.1944 - acc: 0.9201 - val_loss: 0.6513 - val_acc: 0.7747\n",
      "\n",
      "Epoch 00024: val_acc did not improve from 0.79556\n",
      "Epoch 25/100\n",
      "20250/20250 [==============================] - 107s 5ms/step - loss: 0.1814 - acc: 0.9260 - val_loss: 0.6519 - val_acc: 0.7751\n",
      "\n",
      "Epoch 00025: val_acc did not improve from 0.79556\n",
      "Epoch 26/100\n",
      "20250/20250 [==============================] - 113s 6ms/step - loss: 0.1657 - acc: 0.9318 - val_loss: 0.6855 - val_acc: 0.7818\n",
      "\n",
      "Epoch 00026: val_acc did not improve from 0.79556\n",
      "Epoch 27/100\n",
      "20250/20250 [==============================] - 104s 5ms/step - loss: 0.1576 - acc: 0.9390 - val_loss: 0.7514 - val_acc: 0.7729\n",
      "\n",
      "Epoch 00027: val_acc did not improve from 0.79556\n",
      "Epoch 00027: early stopping\n"
     ]
    }
   ],
   "source": [
    "X_train_indices = sentences_to_indices(X_train, word_to_index, max_len)\n",
    "history = model.fit(X_train_indices, Y_train, batch_size=64, epochs=100, \\\n",
    "                    callbacks=[es, mc], validation_split=0.1)"
   ]
  },
  {
   "cell_type": "code",
   "execution_count": 22,
   "metadata": {},
   "outputs": [
    {
     "data": {
      "image/png": "[encoded data removed]",
      "text/plain": [
       "<Figure size 432x288 with 1 Axes>"
      ]
     },
     "metadata": {
      "needs_background": "light"
     },
     "output_type": "display_data"
    },
    {
     "data": {
      "image/png": "[encoded data removed]",
      "text/plain": [
       "<Figure size 432x288 with 1 Axes>"
      ]
     },
     "metadata": {
      "needs_background": "light"
     },
     "output_type": "display_data"
    }
   ],
   "source": [
    "plot_model_accuracy(history)\n",
    "plot_model_loss(history)"
   ]
  },
  {
   "cell_type": "code",
   "execution_count": 23,
   "metadata": {},
   "outputs": [
    {
     "name": "stdout",
     "output_type": "stream",
     "text": [
      "2500/2500 [==============================] - 4s 2ms/step\n",
      "Test loss =  0.7059163780212402\n",
      "Test accuracy =  0.7828\n"
     ]
    }
   ],
   "source": [
    "X_test_indices = sentences_to_indices(X_test, word_to_index, max_len)\n",
    "loss, acc = model.evaluate(X_test_indices, Y_test)\n",
    "print(\"Test loss = \", loss)\n",
    "print(\"Test accuracy = \", acc)"
   ]
  },
  {
   "cell_type": "markdown",
   "metadata": {},
   "source": [
    "### Load model"
   ]
  },
  {
   "cell_type": "code",
   "execution_count": 32,
   "metadata": {},
   "outputs": [
    {
     "name": "stdout",
     "output_type": "stream",
     "text": [
      "_________________________________________________________________\n",
      "Layer (type)                 Output Shape              Param #   \n",
      "=================================================================\n",
      "input_1 (InputLayer)         (None, 100)               0         \n",
      "_________________________________________________________________\n",
      "embedding_1 (Embedding)      (None, 100, 50)           20000050  \n",
      "_________________________________________________________________\n",
      "lstm_1 (LSTM)                (None, 100, 128)          91648     \n",
      "_________________________________________________________________\n",
      "dropout_1 (Dropout)          (None, 100, 128)          0         \n",
      "_________________________________________________________________\n",
      "lstm_2 (LSTM)                (None, 128)               131584    \n",
      "_________________________________________________________________\n",
      "dropout_2 (Dropout)          (None, 128)               0         \n",
      "_________________________________________________________________\n",
      "dense_1 (Dense)              (None, 1)                 129       \n",
      "=================================================================\n",
      "Total params: 20,223,411\n",
      "Trainable params: 223,361\n",
      "Non-trainable params: 20,000,050\n",
      "_________________________________________________________________\n"
     ]
    }
   ],
   "source": [
    "# del model\n",
    "\n",
    "model = load_model('model.h5')\n",
    "model.summary()"
   ]
  },
  {
   "cell_type": "markdown",
   "metadata": {},
   "source": [
    "### Submission"
   ]
  },
  {
   "cell_type": "code",
   "execution_count": 25,
   "metadata": {},
   "outputs": [
    {
     "data": {
      "text/plain": [
       "(25000, 2)"
      ]
     },
     "execution_count": 25,
     "metadata": {},
     "output_type": "execute_result"
    }
   ],
   "source": [
    "sub_test = pd.read_csv('kg-data/testData.tsv', sep='\\t')\n",
    "sub_test.shape"
   ]
  },
  {
   "cell_type": "code",
   "execution_count": 26,
   "metadata": {},
   "outputs": [
    {
     "data": {
      "text/html": [
       "<div>\n",
       "<style scoped>\n",
       "    .dataframe tbody tr th:only-of-type {\n",
       "        vertical-align: middle;\n",
       "    }\n",
       "\n",
       "    .dataframe tbody tr th {\n",
       "        vertical-align: top;\n",
       "    }\n",
       "\n",
       "    .dataframe thead th {\n",
       "        text-align: right;\n",
       "    }\n",
       "</style>\n",
       "<table border=\"1\" class=\"dataframe\">\n",
       "  <thead>\n",
       "    <tr style=\"text-align: right;\">\n",
       "      <th></th>\n",
       "      <th>id</th>\n",
       "      <th>review</th>\n",
       "    </tr>\n",
       "  </thead>\n",
       "  <tbody>\n",
       "    <tr>\n",
       "      <th>0</th>\n",
       "      <td>12311_10</td>\n",
       "      <td>Naturally in a film who's main themes are of m...</td>\n",
       "    </tr>\n",
       "    <tr>\n",
       "      <th>1</th>\n",
       "      <td>8348_2</td>\n",
       "      <td>This movie is a disaster within a disaster fil...</td>\n",
       "    </tr>\n",
       "    <tr>\n",
       "      <th>2</th>\n",
       "      <td>5828_4</td>\n",
       "      <td>All in all, this is a movie for kids. We saw i...</td>\n",
       "    </tr>\n",
       "    <tr>\n",
       "      <th>3</th>\n",
       "      <td>7186_2</td>\n",
       "      <td>Afraid of the Dark left me with the impression...</td>\n",
       "    </tr>\n",
       "    <tr>\n",
       "      <th>4</th>\n",
       "      <td>12128_7</td>\n",
       "      <td>A very accurate depiction of small time mob li...</td>\n",
       "    </tr>\n",
       "  </tbody>\n",
       "</table>\n",
       "</div>"
      ],
      "text/plain": [
       "         id                                             review\n",
       "0  12311_10  Naturally in a film who's main themes are of m...\n",
       "1    8348_2  This movie is a disaster within a disaster fil...\n",
       "2    5828_4  All in all, this is a movie for kids. We saw i...\n",
       "3    7186_2  Afraid of the Dark left me with the impression...\n",
       "4   12128_7  A very accurate depiction of small time mob li..."
      ]
     },
     "execution_count": 26,
     "metadata": {},
     "output_type": "execute_result"
    }
   ],
   "source": [
    "sub_test.head()"
   ]
  },
  {
   "cell_type": "code",
   "execution_count": 27,
   "metadata": {},
   "outputs": [],
   "source": [
    "X_sub_test = data['review'].values\n",
    "X_sub_test_indices = sentences_to_indices(X_sub_test, word_to_index, max_len)"
   ]
  },
  {
   "cell_type": "code",
   "execution_count": 33,
   "metadata": {},
   "outputs": [],
   "source": [
    "Y_sub_pred = model.predict(X_sub_test_indices).flatten()\n",
    "Y_sub_pred = (Y_sub_pred > 0.5).astype(int)"
   ]
  },
  {
   "cell_type": "code",
   "execution_count": 34,
   "metadata": {},
   "outputs": [
    {
     "data": {
      "text/html": [
       "<div>\n",
       "<style scoped>\n",
       "    .dataframe tbody tr th:only-of-type {\n",
       "        vertical-align: middle;\n",
       "    }\n",
       "\n",
       "    .dataframe tbody tr th {\n",
       "        vertical-align: top;\n",
       "    }\n",
       "\n",
       "    .dataframe thead th {\n",
       "        text-align: right;\n",
       "    }\n",
       "</style>\n",
       "<table border=\"1\" class=\"dataframe\">\n",
       "  <thead>\n",
       "    <tr style=\"text-align: right;\">\n",
       "      <th></th>\n",
       "      <th>id</th>\n",
       "      <th>sentiment</th>\n",
       "    </tr>\n",
       "  </thead>\n",
       "  <tbody>\n",
       "    <tr>\n",
       "      <th>0</th>\n",
       "      <td>12311_10</td>\n",
       "      <td>1</td>\n",
       "    </tr>\n",
       "    <tr>\n",
       "      <th>1</th>\n",
       "      <td>8348_2</td>\n",
       "      <td>1</td>\n",
       "    </tr>\n",
       "    <tr>\n",
       "      <th>2</th>\n",
       "      <td>5828_4</td>\n",
       "      <td>0</td>\n",
       "    </tr>\n",
       "    <tr>\n",
       "      <th>3</th>\n",
       "      <td>7186_2</td>\n",
       "      <td>0</td>\n",
       "    </tr>\n",
       "    <tr>\n",
       "      <th>4</th>\n",
       "      <td>12128_7</td>\n",
       "      <td>1</td>\n",
       "    </tr>\n",
       "  </tbody>\n",
       "</table>\n",
       "</div>"
      ],
      "text/plain": [
       "         id  sentiment\n",
       "0  12311_10          1\n",
       "1    8348_2          1\n",
       "2    5828_4          0\n",
       "3    7186_2          0\n",
       "4   12128_7          1"
      ]
     },
     "execution_count": 34,
     "metadata": {},
     "output_type": "execute_result"
    }
   ],
   "source": [
    "ids = sub_test['id']\n",
    "labels = pd.Series(Y_sub_pred, name=\"sentiment\")\n",
    "submission = pd.concat([ids, labels], axis=1)\n",
    "submission.head()"
   ]
  },
  {
   "cell_type": "code",
   "execution_count": 35,
   "metadata": {},
   "outputs": [],
   "source": [
    "submission.to_csv('kg-data/submission.csv', sep=',', index=False)"
   ]
  },
  {
   "cell_type": "markdown",
   "metadata": {},
   "source": [
    "### Kaggle"
   ]
  },
  {
   "cell_type": "code",
   "execution_count": null,
   "metadata": {},
   "outputs": [],
   "source": [
    "!kaggle competitions download -c word2vec-nlp-tutorial -p 'kg-data'"
   ]
  },
  {
   "cell_type": "code",
   "execution_count": 36,
   "metadata": {},
   "outputs": [
    {
     "name": "stdout",
     "output_type": "stream",
     "text": [
      "100%|████████████████████████████████████████| 227k/227k [00:02<00:00, 87.6kB/s]\n",
      "Successfully submitted to Bag of Words Meets Bags of Popcorn"
     ]
    }
   ],
   "source": [
    "!kaggle competitions submit -c word2vec-nlp-tutorial -f 'kg-data/submission.csv' -m 'es, mc'"
   ]
  },
  {
   "cell_type": "code",
   "execution_count": null,
   "metadata": {},
   "outputs": [],
   "source": []
  }
 ],
 "metadata": {
  "kernelspec": {
   "display_name": "Python 3",
   "language": "python",
   "name": "python3"
  },
  "language_info": {
   "codemirror_mode": {
    "name": "ipython",
    "version": 3
   },
   "file_extension": ".py",
   "mimetype": "text/x-python",
   "name": "python",
   "nbconvert_exporter": "python",
   "pygments_lexer": "ipython3",
   "version": "3.7.3"
  }
 },
 "nbformat": 4,
 "nbformat_minor": 2
}
